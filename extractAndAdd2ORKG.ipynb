{
  "nbformat": 4,
  "nbformat_minor": 0,
  "metadata": {
    "colab": {
      "provenance": []
    },
    "kernelspec": {
      "name": "python3",
      "display_name": "Python 3"
    },
    "language_info": {
      "name": "python"
    }
  },
  "cells": [
    {
      "cell_type": "code",
      "execution_count": null,
      "metadata": {
        "id": "GnynzpondcvY"
      },
      "outputs": [],
      "source": [
        "!pip install orkg\n",
        "!pip install openml"
      ]
    },
    {
      "cell_type": "markdown",
      "source": [
        "# **Define variables**"
      ],
      "metadata": {
        "id": "6t29syc1kaY8"
      }
    },
    {
      "cell_type": "code",
      "source": [
        "custom_classID = 'C75446' # You need to edit it.\n",
        "dataset_name_label = 'Class Test3'  # You need to edit it.\n",
        "dataset_name='ilpd'\n",
        "feature_predicates = {\n",
        "    'Number of instances': 'P39021',\n",
        "    'Number of features': 'P72007',\n",
        "    'Number of classes': 'P52036',\n",
        "    'Standard Deviation Ratio': 'P114000',\n",
        "    'Class Entropy': 'P114002',\n",
        "    'Normal Entropy': 'P114003',\n",
        "    'hasFeature': 'P114013'\n",
        "}\n",
        "\n",
        "automl_datasets = ['kr-vs-kp', 'letter', 'balance-scale', 'mfeat-factors', 'mfeat-fourier', 'breast-w',\n",
        "                   'mfeat-karhunen', 'mfeat-morphological', 'mfeat-zernike', 'optdigits', 'credit-approval',\n",
        "                   'credit-g', 'pendigits', 'diabetes', 'sick', 'spambase', 'splice', 'tic-tac-toe', 'vehicle',\n",
        "                   'electricity', 'satimage',  'isolet', 'vowel', 'analcatdata_authorship',\n",
        "                   'analcatdata_dmft', 'mnist_784', 'pc4', 'pc3', 'jm1', 'kc2', 'kc1', 'pc1', 'bank-marketing',\n",
        "                   'banknote-authentication', 'blood-transfusion-service-center', 'cnae-9', 'first-order-theorem-proving',\n",
        "                   'har', 'ilpd', 'madelon', 'nomao', 'ozone-level-8hr', 'phoneme', 'qsar-biodeg', 'wall-robot-navigation',\n",
        "                   'semeion', 'wdbc', 'adult', 'Bioresponse', 'PhishingWebsites', 'GesturePhaseSegmentationProcessed',\n",
        "                   'cylinder-bands', 'dresses-sales', 'numerai28.6', 'texture', 'dna', 'churn',\n",
        "                   'Devnagari-Script', 'CIFAR_10', 'MiceProtein', 'car', 'Internet-Advertisements', 'mfeat-pixel',\n",
        "                   'steel-plates-fault', 'wilt', 'segment', 'climate-model-simulation-crashes', 'Fashion-MNIST',\n",
        "                   'jungle_chess_2pcs_raw_endgame_complete', 'JapaneseVowels']"
      ],
      "metadata": {
        "id": "RstC9NAOvFay"
      },
      "execution_count": 272,
      "outputs": []
    },
    {
      "cell_type": "code",
      "source": [
        "from google.colab import userdata\n",
        "email = userdata.get('email')\n",
        "password = userdata.get('password')"
      ],
      "metadata": {
        "id": "hUKM1cXdoAu_"
      },
      "execution_count": 160,
      "outputs": []
    },
    {
      "cell_type": "code",
      "source": [
        "from orkg import ORKG, Hosts\n",
        "\n",
        "orkg = ORKG(host=Hosts.SANDBOX, creds=(email, password))"
      ],
      "metadata": {
        "id": "85cw2D6WoJsY"
      },
      "execution_count": 161,
      "outputs": []
    },
    {
      "cell_type": "markdown",
      "source": [
        "# **Create the Class with the CustomID**"
      ],
      "metadata": {
        "id": "v5Ugp79QkRHL"
      }
    },
    {
      "cell_type": "code",
      "source": [
        "classes = orkg.classes.add(id=custom_classID, label=f'{dataset_name_label} Test').content\n",
        "classes"
      ],
      "metadata": {
        "colab": {
          "base_uri": "https://localhost:8080/"
        },
        "id": "MVkRJDGMwW30",
        "outputId": "e9af4de0-9534-4db7-f46b-c4c0660b1604"
      },
      "execution_count": 257,
      "outputs": [
        {
          "output_type": "execute_result",
          "data": {
            "text/plain": [
              "{'id': 'C75446',\n",
              " 'label': 'Class Test3 Test',\n",
              " 'uri': None,\n",
              " 'description': None,\n",
              " 'created_at': '2024-03-10T23:28:19.374313343+01:00',\n",
              " 'created_by': 'ba7b42b0-dbeb-41fb-99d5-cb6b4140660e',\n",
              " 'modifiable': True,\n",
              " '_class': 'class'}"
            ]
          },
          "metadata": {},
          "execution_count": 257
        }
      ]
    },
    {
      "cell_type": "markdown",
      "source": [
        "# **Extract the Meta-Features from the Datasets**"
      ],
      "metadata": {
        "id": "wSJdXOVwkC2_"
      }
    },
    {
      "cell_type": "code",
      "source": [
        "import pandas as pd\n",
        "import numpy as np\n",
        "from sklearn import datasets\n",
        "from scipy.stats import entropy\n",
        "\n",
        "def extract_meta_features(dataset_name):\n",
        "    # Fetch the dataset from OpenML\n",
        "    dataset = datasets.fetch_openml(dataset_name, parser='auto', as_frame='auto')\n",
        "    # Identify the target variable\n",
        "    possible_targets = ['Class', 'class', 'Defects', 'c', 'Author','band_type','defects','Prevention','problems', 'binaryClass','y','character','attribute_21' ,'target', 'Result','Phase', 'result']\n",
        "    # Identify the target variable\n",
        "    target = next((t for t in possible_targets if t in dataset.frame.columns), None)\n",
        "\n",
        "    if target is None:\n",
        "        raise ValueError(\"Target variable not found in the dataset.\")    # Extract meta-features\n",
        "    num_instances = dataset.frame.shape[0]\n",
        "    num_features = dataset.frame.shape[1]\n",
        "    num_classes = len(dataset.target.unique())\n",
        "    skewness = round(dataset.frame.skew(numeric_only=True), 2)\n",
        "    kurtosis = round(dataset.frame.kurt(numeric_only=True), 2)\n",
        "    min_values = round(dataset.frame.min(numeric_only=True), 2)\n",
        "    max_values = round(dataset.frame.max(numeric_only=True), 2)\n",
        "    mean_values = round(dataset.frame.mean(numeric_only=True), 2)\n",
        "    median_values = round(dataset.frame.median(numeric_only=True), 2)\n",
        "\n",
        "    sd_ratio = round((dataset.frame.std(numeric_only=True) / dataset.frame.mean(numeric_only=True)).mean()  , 2)\n",
        "\n",
        "    class_entropy = round(entropy(dataset.frame[target].value_counts(normalize=True), base=2), 2)\n",
        "    normal_entropy = round(class_entropy / np.log2(len(dataset.target.unique())), 2)\n",
        "\n",
        "    # Store meta-features in a DataFrame\n",
        "    meta_features_df = pd.DataFrame({\n",
        "        'Meta-Feature': ['Number of instances', 'Number of features', 'Number of classes', 'Skewness', 'Kurtosis', 'Min values', 'Max values',\n",
        "                         'Mean values', 'Median values', 'Standard Deviation Ratio', 'Class Entropy',\n",
        "                         'Normal Entropy'],\n",
        "        'Value': [num_instances, num_features, num_classes, skewness,\n",
        "                  kurtosis, min_values, max_values, mean_values, median_values, sd_ratio, class_entropy.item(),\n",
        "                  normal_entropy]\n",
        "    })\n",
        "\n",
        "    # Create 'hasFeatures' column for meta-features that have multiple values\n",
        "    multi_value_indices = [3, 4, 5, 6, 7, 8]  # Indices of meta-features with multiple values\n",
        "    meta_features_df['hasFeatures'] = pd.Series([skewness, kurtosis, min_values, max_values, mean_values, median_values], index=multi_value_indices)\n",
        "    return meta_features_df\n",
        ""
      ],
      "metadata": {
        "id": "7qDR7Br5d2NX"
      },
      "execution_count": 267,
      "outputs": []
    },
    {
      "cell_type": "markdown",
      "source": [
        "# **Adding meta features that having single value to ORKG resources**"
      ],
      "metadata": {
        "id": "1VkYyb5dke49"
      }
    },
    {
      "cell_type": "code",
      "source": [
        "for dataset in automl_datasets:\n",
        "  resource = orkg.resources.add(label = dataset, classes = [custom_classID]).content\n",
        "  resource_id = resource['id']\n",
        "  data = extract_meta_features(dataset)\n",
        "  single_value_metaFeatures = {\n",
        "    'Number of instances': data.loc[0, 'Value'],\n",
        "    'Number of features': data.loc[1, 'Value'],\n",
        "    'Number of classes': data.loc[2, 'Value'],\n",
        "    'Standard Deviation Ratio': data.loc[9, 'Value'],\n",
        "    'Class Entropy': data.loc[10, 'Value'],\n",
        "    'Normal Entropy': data.loc[11, 'Value'],\n",
        "    'hasFeature': 0\n",
        "  }\n",
        "  print(f\"adding {dataset}\")\n",
        "  for feature, value in single_value_metaFeatures.items():\n",
        "    # add Literal\n",
        "    literal_id = orkg.literals.add(label=str(value)).content['id']\n",
        "    # add the predicate\n",
        "    predicate_id = feature_predicates[feature]\n",
        "\n",
        "    # connect them\n",
        "    statement_data = {\n",
        "        'subject_id': resource_id,\n",
        "        'predicate_id': predicate_id,\n",
        "        'object_id': literal_id\n",
        "    }\n",
        "    orkg.statements.add(**statement_data)\n",
        "  print(f\"Done {dataset}\")"
      ],
      "metadata": {
        "id": "ynacV6axT5u1"
      },
      "execution_count": null,
      "outputs": []
    }
  ]
}